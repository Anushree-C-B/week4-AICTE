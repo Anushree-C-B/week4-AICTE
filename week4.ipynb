{
  "nbformat": 4,
  "nbformat_minor": 0,
  "metadata": {
    "colab": {
      "provenance": [],
      "authorship_tag": "ABX9TyMRk4mxCq2aUxeXvQyirC4i",
      "include_colab_link": true
    },
    "kernelspec": {
      "name": "python3",
      "display_name": "Python 3"
    },
    "language_info": {
      "name": "python"
    }
  },
  "cells": [
    {
      "cell_type": "markdown",
      "metadata": {
        "id": "view-in-github",
        "colab_type": "text"
      },
      "source": [
        "<a href=\"https://colab.research.google.com/github/Anushree-C-B/week4-AICTE/blob/main/week4.ipynb\" target=\"_parent\"><img src=\"https://colab.research.google.com/assets/colab-badge.svg\" alt=\"Open In Colab\"/></a>"
      ]
    },
    {
      "cell_type": "code",
      "source": [
        "import random\n",
        "import string\n",
        "\n",
        "def generate_password(length=12):\n",
        "    characters = string.ascii_letters + string.digits + string.punctuation\n",
        "    password = ''.join(random.choice(characters) for _ in range(length))\n",
        "    return password\n",
        "\n",
        "def generate_multiple_passwords(num_passwords=1, length=12):\n",
        "    passwords = [generate_password(length) for _ in range(num_passwords)]\n",
        "    return passwords\n",
        "\n",
        "def main():\n",
        "    print(\"Random Password Generator\")\n",
        "    print(\"-------------------------\")\n",
        "\n",
        "    # Get user input for password length and number of passwords\n",
        "    length = int(input(\"Enter the desired length of passwords: \"))\n",
        "    num_passwords = int(input(\"Enter the number of passwords to generate: \"))\n",
        "\n",
        "    # Generate passwords\n",
        "    passwords = generate_multiple_passwords(num_passwords, length)\n",
        "\n",
        "    # Display generated passwords\n",
        "    print(\"\\nGenerated Passwords:\")\n",
        "    for i, password in enumerate(passwords, start=1):\n",
        "        print(f\"Password {i}: {password}\")\n",
        "\n",
        "if __name__ == \"__main__\":\n",
        "    main()\n"
      ],
      "metadata": {
        "colab": {
          "base_uri": "https://localhost:8080/"
        },
        "id": "z24v_SmoUPgd",
        "outputId": "9e1e4963-cb14-4168-94dd-c6b9f17be3e2"
      },
      "execution_count": 1,
      "outputs": [
        {
          "output_type": "stream",
          "name": "stdout",
          "text": [
            "Random Password Generator\n",
            "-------------------------\n",
            "Enter the desired length of passwords: 12\n",
            "Enter the number of passwords to generate: 3\n",
            "\n",
            "Generated Passwords:\n",
            "Password 1: w#;wT\"]`(|f{\n",
            "Password 2: w,2iS?a6M=Cs\n",
            "Password 3: s)}XcA:5N!Wl\n"
          ]
        }
      ]
    }
  ]
}